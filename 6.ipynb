{
 "cells": [
  {
   "attachments": {},
   "cell_type": "markdown",
   "metadata": {},
   "source": [
    "### Задание 1\n",
    "Продакт на главной mail.ru решил протестировать в рекомендательной ленте контента вместо карточек со статьями видеоплеер с короткими видео. Нынешний таймспент на юзера в день в среднем равен 25 минут, а стандартная ошибка (SD) равна 156. Мы предполагаем, что в новой версии таймспент на юзера в день изменится на 10%. Средний трафик 20000 человек в день. Посчитайте сколько дней необходимо держать эксперимент при alpha = 5% и beta = 20% ."
   ]
  },
  {
   "cell_type": "code",
   "execution_count": 23,
   "metadata": {},
   "outputs": [
    {
     "name": "stdout",
     "output_type": "stream",
     "text": [
      "135084\n",
      "7\n"
     ]
    }
   ],
   "source": [
    "from typing import Union\n",
    "from statsmodels.stats.power import tt_ind_solve_power\n",
    "import math\n",
    "\n",
    "# Создаем функцию для расчета размера эффекта между двумя выборками\n",
    "# с непрерывными признаками\n",
    "\n",
    "\n",
    "def continuous_effect_size(mean1: Union[float, int],\n",
    "                           std1: Union[float, int],\n",
    "                           mean2: Union[float, int],\n",
    "                           std2: Union[float, int],\n",
    "                           nobs1: int = 10_000,\n",
    "                           nobs2: int = 10_000) -> float:\n",
    "\n",
    "    effect_size_formula = (mean1 - mean2) / ((std1**2 + std2**2) / 2) ** 0.5\n",
    "    return effect_size_formula\n",
    "\n",
    "# Создаем функцию для расчета необходимого размера выборок,\n",
    "# требуемой статистической мощности и уровня значимости\n",
    "\n",
    "\n",
    "def sample_size_continuous(effect_size: float,\n",
    "                           alpha: float = .05,\n",
    "                           beta: float = .2,\n",
    "                           ratio: Union[float, int] = 1) -> int:\n",
    "\n",
    "    n = tt_ind_solve_power(effect_size=effect_size,\n",
    "                           alpha=alpha,\n",
    "                           power=(1 - beta),\n",
    "                           ratio=ratio,\n",
    "                           )\n",
    "    return int(n * 2)\n",
    "\n",
    "\n",
    "# Задаем параметры эксперимента (изменяем среднее и стандартное отклонение выборки\n",
    "# теста на 10%)\n",
    "mu_control, mu_test = 25, 25*1.10\n",
    "std_control, std_test = 156, 156*1.10\n",
    "traffic_per_day = 20000\n",
    "\n",
    "# Вычисляем размер эффекта между выборками\n",
    "effect_size = continuous_effect_size(\n",
    "    mean1=mu_control, std1=std_control, mean2=mu_test, std2=std_test)\n",
    "\n",
    "# Расчитываем размер выборки с требуемой статистической мощностью на заданном\n",
    "# уровне значимости. Определяем, сколько дней нужно для получения достаточного\n",
    "# трафика на сайте\n",
    "traffic = sample_size_continuous(effect_size=effect_size, alpha=.05, beta=.2)\n",
    "traffic_per_day = 20000\n",
    "traffic_per_day_needed = traffic / traffic_per_day\n",
    "\n",
    "print(traffic)\n",
    "print(math.ceil(traffic_per_day_needed))\n",
    "\n"
   ]
  },
  {
   "attachments": {},
   "cell_type": "markdown",
   "metadata": {},
   "source": [
    "Ответ:  7 дней необходимо для эксперимента, при его реализации на всех 135084 пользователях, при alpha = 5% и beta = 20%.\n",
    "\n",
    "### Задание 2\n",
    "Наша продуктовая команда в ecommerce магазине планирует запустить тест, направленный на ускорение загрузки сайта. Одна из основных метрик bounce rate в GA = 40%. Мы предполагаем, что при оптимизации сайта она изменится минимум на 20%.Средний трафик 4000 человек в день. Посчитайте сколько нам нужно дней держать эксперимент при alpha = 5% и beta = 20%. Калькуляторы, которые могут помочь в решение задачь: https://www.evanmiller.org/ab-testing/sample-size.html и https://www.statulator.com/SampleSize/ss2M.html"
   ]
  },
  {
   "cell_type": "code",
   "execution_count": 42,
   "metadata": {},
   "outputs": [],
   "source": [
    "# импорт необходимых библиотек\n",
    "from statsmodels.stats.power import zt_ind_solve_power\n",
    "from statsmodels.stats.proportion import proportion_effectsize\n",
    "from typing import Union\n",
    "from math import asin\n",
    "import numpy as np\n",
    "\n",
    "# Создаем функцию для расчета эффекта между двумя долями конверсии\n",
    "\n",
    "def calc_proportion_effect_size(conv_1: int, nobs_1: int, conv_2: int, nobs_2: int):\n",
    "    prob_1, prob_2 = conv_1 / nobs_1, conv_2 / nobs_2\n",
    "    \n",
    "    es_formula = 2  * asin(np.sqrt(prob_1)) - 2 * asin(np.sqrt(prob_2))\n",
    "    es_import = proportion_effectsize(prob_1, prob_2)\n",
    "    \n",
    "    return es_formula, es_import\n",
    "\n",
    "# Создаем функцию для расчета необходимого размера выборки\n",
    "\n",
    "\n",
    "def calc_proportion_sample_size(effect_size: float,\n",
    "                                alpha: float = 0.05,\n",
    "                                beta: float = 0.2,\n",
    "                                ratio: Union[float, int] = 1):\n",
    "    \n",
    "    n = zt_ind_solve_power(effect_size=effect_size,\n",
    "                           alpha=alpha,\n",
    "                           power=(1 - beta),\n",
    "                           ratio=ratio,\n",
    "                  )\n",
    "    return int(n * 2)\n",
    "\n",
    "\n"
   ]
  },
  {
   "attachments": {},
   "cell_type": "markdown",
   "metadata": {},
   "source": [
    "Метрика bounce rate в GA = 40%.\n",
    "При оптимизации сайта она изменится минимум на 20% от текущего показателя. =>\n",
    "40% х 0,2 = 8%\n",
    "40% - 8% = 32% =>\n",
    "H0=40% # bounce rate в GA\n",
    "H1=32% # bounce rate в GA\n",
    "\n",
    "Найдем размер выборки для каждой гипотезы, при помощи калькулятора https://www.evanmiller.org/ab-testing/sample-size.html\n",
    "\n",
    "![Image alt](https://github.com/Chernaya-Nataliya/AB-Testing/blob/main/6.1.png)\n",
    "\n",
    "![Image alt](https://github.com/Chernaya-Nataliya/AB-Testing/blob/main/6.2.png)"
   ]
  },
  {
   "cell_type": "code",
   "execution_count": 43,
   "metadata": {},
   "outputs": [
    {
     "name": "stdout",
     "output_type": "stream",
     "text": [
      "Общий размер выборки 16673 пользователя.\n",
      "Необходимо провести эксперимент в течение 5 дней\n"
     ]
    }
   ],
   "source": [
    "\n",
    "# Расчитываем effect_size.\n",
    "conv_1, conv_2 = 40, 32\n",
    "nobs_1, nobs_2 = 983, 983\n",
    "prob_1, prob_2 = conv_1 / nobs_1, conv_2 / nobs_2\n",
    "calc_proportion_effect_size(conv_1=conv_1, nobs_1=nobs_1, conv_2=conv_2, nobs_2=nobs_2)\n",
    "\n",
    "# Расчитываем минимально необходимую выборку\n",
    "effect_size = calc_proportion_effect_size(conv_1=conv_1, nobs_1=nobs_1, conv_2=conv_2, nobs_2=nobs_2)[0]\n",
    "sample_size = calc_proportion_sample_size(effect_size=effect_size, alpha=.05, beta=0.2)\n",
    "\n",
    "print(f\"Общий размер выборки {sample_size} пользователя.\")\n",
    "\n",
    "\n",
    "# Расчитаем количество дней.\n",
    "days_traffic = math.ceil(sample_size/4000)\n",
    "\n",
    "print(f\"Необходимо провести эксперимент в течение {days_traffic} дней\")"
   ]
  },
  {
   "attachments": {},
   "cell_type": "markdown",
   "metadata": {},
   "source": [
    "Ответ:  5 дней необходимо для эксперимента, при его реализации на всех 16673 пользователях, при alpha = 5% и beta = 20%."
   ]
  }
 ],
 "metadata": {
  "kernelspec": {
   "display_name": "Python 3",
   "language": "python",
   "name": "python3"
  },
  "language_info": {
   "codemirror_mode": {
    "name": "ipython",
    "version": 3
   },
   "file_extension": ".py",
   "mimetype": "text/x-python",
   "name": "python",
   "nbconvert_exporter": "python",
   "pygments_lexer": "ipython3",
   "version": "3.11.1"
  },
  "orig_nbformat": 4
 },
 "nbformat": 4,
 "nbformat_minor": 2
}
