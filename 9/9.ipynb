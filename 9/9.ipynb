{
 "cells": [
  {
   "attachments": {},
   "cell_type": "markdown",
   "metadata": {},
   "source": [
    "Загрузка библиотек"
   ]
  },
  {
   "cell_type": "code",
   "execution_count": 89,
   "metadata": {},
   "outputs": [],
   "source": [
    "from scipy.stats import ttest_1samp\n",
    "\n",
    "import pandas as pd\n",
    "\n",
    "\n",
    "\n",
    "import warnings\n",
    "warnings.filterwarnings('ignore')\n",
    "warnings.warn('DelftStack')\n",
    "warnings.warn('Do not show this message')"
   ]
  },
  {
   "attachments": {},
   "cell_type": "markdown",
   "metadata": {},
   "source": [
    "Mobile Games AB Testing with Cookie Cats\n",
    "\n",
    "Подготовка данных"
   ]
  },
  {
   "cell_type": "code",
   "execution_count": 90,
   "metadata": {},
   "outputs": [
    {
     "data": {
      "text/html": [
       "<div>\n",
       "<style scoped>\n",
       "    .dataframe tbody tr th:only-of-type {\n",
       "        vertical-align: middle;\n",
       "    }\n",
       "\n",
       "    .dataframe tbody tr th {\n",
       "        vertical-align: top;\n",
       "    }\n",
       "\n",
       "    .dataframe thead th {\n",
       "        text-align: right;\n",
       "    }\n",
       "</style>\n",
       "<table border=\"1\" class=\"dataframe\">\n",
       "  <thead>\n",
       "    <tr style=\"text-align: right;\">\n",
       "      <th></th>\n",
       "      <th>userid</th>\n",
       "      <th>version</th>\n",
       "      <th>sum_gamerounds</th>\n",
       "      <th>retention_1</th>\n",
       "      <th>retention_7</th>\n",
       "    </tr>\n",
       "  </thead>\n",
       "  <tbody>\n",
       "    <tr>\n",
       "      <th>0</th>\n",
       "      <td>116</td>\n",
       "      <td>gate_30</td>\n",
       "      <td>3</td>\n",
       "      <td>0</td>\n",
       "      <td>0</td>\n",
       "    </tr>\n",
       "    <tr>\n",
       "      <th>1</th>\n",
       "      <td>337</td>\n",
       "      <td>gate_30</td>\n",
       "      <td>38</td>\n",
       "      <td>1</td>\n",
       "      <td>0</td>\n",
       "    </tr>\n",
       "    <tr>\n",
       "      <th>2</th>\n",
       "      <td>377</td>\n",
       "      <td>gate_40</td>\n",
       "      <td>165</td>\n",
       "      <td>1</td>\n",
       "      <td>0</td>\n",
       "    </tr>\n",
       "    <tr>\n",
       "      <th>3</th>\n",
       "      <td>483</td>\n",
       "      <td>gate_40</td>\n",
       "      <td>1</td>\n",
       "      <td>0</td>\n",
       "      <td>0</td>\n",
       "    </tr>\n",
       "    <tr>\n",
       "      <th>4</th>\n",
       "      <td>488</td>\n",
       "      <td>gate_40</td>\n",
       "      <td>179</td>\n",
       "      <td>1</td>\n",
       "      <td>1</td>\n",
       "    </tr>\n",
       "    <tr>\n",
       "      <th>5</th>\n",
       "      <td>540</td>\n",
       "      <td>gate_40</td>\n",
       "      <td>187</td>\n",
       "      <td>1</td>\n",
       "      <td>1</td>\n",
       "    </tr>\n",
       "    <tr>\n",
       "      <th>6</th>\n",
       "      <td>1066</td>\n",
       "      <td>gate_30</td>\n",
       "      <td>0</td>\n",
       "      <td>0</td>\n",
       "      <td>0</td>\n",
       "    </tr>\n",
       "    <tr>\n",
       "      <th>7</th>\n",
       "      <td>1444</td>\n",
       "      <td>gate_40</td>\n",
       "      <td>2</td>\n",
       "      <td>0</td>\n",
       "      <td>0</td>\n",
       "    </tr>\n",
       "    <tr>\n",
       "      <th>8</th>\n",
       "      <td>1574</td>\n",
       "      <td>gate_40</td>\n",
       "      <td>108</td>\n",
       "      <td>1</td>\n",
       "      <td>1</td>\n",
       "    </tr>\n",
       "    <tr>\n",
       "      <th>9</th>\n",
       "      <td>1587</td>\n",
       "      <td>gate_40</td>\n",
       "      <td>153</td>\n",
       "      <td>1</td>\n",
       "      <td>0</td>\n",
       "    </tr>\n",
       "  </tbody>\n",
       "</table>\n",
       "</div>"
      ],
      "text/plain": [
       "   userid  version  sum_gamerounds  retention_1  retention_7\n",
       "0     116  gate_30               3            0            0\n",
       "1     337  gate_30              38            1            0\n",
       "2     377  gate_40             165            1            0\n",
       "3     483  gate_40               1            0            0\n",
       "4     488  gate_40             179            1            1\n",
       "5     540  gate_40             187            1            1\n",
       "6    1066  gate_30               0            0            0\n",
       "7    1444  gate_40               2            0            0\n",
       "8    1574  gate_40             108            1            1\n",
       "9    1587  gate_40             153            1            0"
      ]
     },
     "execution_count": 90,
     "metadata": {},
     "output_type": "execute_result"
    }
   ],
   "source": [
    "df = pd.read_excel('Rezult_А_B.xlsx')\n",
    "df.head(10)"
   ]
  },
  {
   "cell_type": "code",
   "execution_count": 91,
   "metadata": {},
   "outputs": [
    {
     "name": "stdout",
     "output_type": "stream",
     "text": [
      "<class 'pandas.core.frame.DataFrame'>\n",
      "RangeIndex: 90189 entries, 0 to 90188\n",
      "Data columns (total 5 columns):\n",
      " #   Column          Non-Null Count  Dtype \n",
      "---  ------          --------------  ----- \n",
      " 0   userid          90189 non-null  int64 \n",
      " 1   version         90189 non-null  object\n",
      " 2   sum_gamerounds  90189 non-null  int64 \n",
      " 3   retention_1     90189 non-null  int64 \n",
      " 4   retention_7     90189 non-null  int64 \n",
      "dtypes: int64(4), object(1)\n",
      "memory usage: 3.4+ MB\n"
     ]
    }
   ],
   "source": [
    "df.info()"
   ]
  },
  {
   "cell_type": "code",
   "execution_count": 92,
   "metadata": {},
   "outputs": [
    {
     "data": {
      "text/html": [
       "<div>\n",
       "<style scoped>\n",
       "    .dataframe tbody tr th:only-of-type {\n",
       "        vertical-align: middle;\n",
       "    }\n",
       "\n",
       "    .dataframe tbody tr th {\n",
       "        vertical-align: top;\n",
       "    }\n",
       "\n",
       "    .dataframe thead th {\n",
       "        text-align: right;\n",
       "    }\n",
       "</style>\n",
       "<table border=\"1\" class=\"dataframe\">\n",
       "  <thead>\n",
       "    <tr style=\"text-align: right;\">\n",
       "      <th></th>\n",
       "      <th>userid</th>\n",
       "      <th>sum_gamerounds</th>\n",
       "      <th>retention_1</th>\n",
       "      <th>retention_7</th>\n",
       "    </tr>\n",
       "  </thead>\n",
       "  <tbody>\n",
       "    <tr>\n",
       "      <th>count</th>\n",
       "      <td>9.018900e+04</td>\n",
       "      <td>90189.000000</td>\n",
       "      <td>90189.000000</td>\n",
       "      <td>90189.000000</td>\n",
       "    </tr>\n",
       "    <tr>\n",
       "      <th>mean</th>\n",
       "      <td>4.998412e+06</td>\n",
       "      <td>51.872457</td>\n",
       "      <td>0.445210</td>\n",
       "      <td>0.186065</td>\n",
       "    </tr>\n",
       "    <tr>\n",
       "      <th>std</th>\n",
       "      <td>2.883286e+06</td>\n",
       "      <td>195.050858</td>\n",
       "      <td>0.496992</td>\n",
       "      <td>0.389161</td>\n",
       "    </tr>\n",
       "    <tr>\n",
       "      <th>min</th>\n",
       "      <td>1.160000e+02</td>\n",
       "      <td>0.000000</td>\n",
       "      <td>0.000000</td>\n",
       "      <td>0.000000</td>\n",
       "    </tr>\n",
       "    <tr>\n",
       "      <th>25%</th>\n",
       "      <td>2.512230e+06</td>\n",
       "      <td>5.000000</td>\n",
       "      <td>0.000000</td>\n",
       "      <td>0.000000</td>\n",
       "    </tr>\n",
       "    <tr>\n",
       "      <th>50%</th>\n",
       "      <td>4.995815e+06</td>\n",
       "      <td>16.000000</td>\n",
       "      <td>0.000000</td>\n",
       "      <td>0.000000</td>\n",
       "    </tr>\n",
       "    <tr>\n",
       "      <th>75%</th>\n",
       "      <td>7.496452e+06</td>\n",
       "      <td>51.000000</td>\n",
       "      <td>1.000000</td>\n",
       "      <td>0.000000</td>\n",
       "    </tr>\n",
       "    <tr>\n",
       "      <th>max</th>\n",
       "      <td>9.999861e+06</td>\n",
       "      <td>49854.000000</td>\n",
       "      <td>1.000000</td>\n",
       "      <td>1.000000</td>\n",
       "    </tr>\n",
       "  </tbody>\n",
       "</table>\n",
       "</div>"
      ],
      "text/plain": [
       "             userid  sum_gamerounds   retention_1   retention_7\n",
       "count  9.018900e+04    90189.000000  90189.000000  90189.000000\n",
       "mean   4.998412e+06       51.872457      0.445210      0.186065\n",
       "std    2.883286e+06      195.050858      0.496992      0.389161\n",
       "min    1.160000e+02        0.000000      0.000000      0.000000\n",
       "25%    2.512230e+06        5.000000      0.000000      0.000000\n",
       "50%    4.995815e+06       16.000000      0.000000      0.000000\n",
       "75%    7.496452e+06       51.000000      1.000000      0.000000\n",
       "max    9.999861e+06    49854.000000      1.000000      1.000000"
      ]
     },
     "execution_count": 92,
     "metadata": {},
     "output_type": "execute_result"
    }
   ],
   "source": [
    "df.describe()"
   ]
  },
  {
   "cell_type": "code",
   "execution_count": 93,
   "metadata": {},
   "outputs": [
    {
     "data": {
      "text/plain": [
       "array(['gate_30', 'gate_40'], dtype=object)"
      ]
     },
     "execution_count": 93,
     "metadata": {},
     "output_type": "execute_result"
    }
   ],
   "source": [
    "df.version.unique()"
   ]
  },
  {
   "cell_type": "code",
   "execution_count": 94,
   "metadata": {},
   "outputs": [
    {
     "data": {
      "text/html": [
       "<div>\n",
       "<style scoped>\n",
       "    .dataframe tbody tr th:only-of-type {\n",
       "        vertical-align: middle;\n",
       "    }\n",
       "\n",
       "    .dataframe tbody tr th {\n",
       "        vertical-align: top;\n",
       "    }\n",
       "\n",
       "    .dataframe thead th {\n",
       "        text-align: right;\n",
       "    }\n",
       "</style>\n",
       "<table border=\"1\" class=\"dataframe\">\n",
       "  <thead>\n",
       "    <tr style=\"text-align: right;\">\n",
       "      <th></th>\n",
       "      <th>userid</th>\n",
       "      <th>version</th>\n",
       "      <th>sum_gamerounds</th>\n",
       "      <th>retention_1</th>\n",
       "      <th>retention_7</th>\n",
       "    </tr>\n",
       "  </thead>\n",
       "  <tbody>\n",
       "    <tr>\n",
       "      <th>57702</th>\n",
       "      <td>6390605</td>\n",
       "      <td>gate_30</td>\n",
       "      <td>49854</td>\n",
       "      <td>0</td>\n",
       "      <td>1</td>\n",
       "    </tr>\n",
       "    <tr>\n",
       "      <th>7912</th>\n",
       "      <td>871500</td>\n",
       "      <td>gate_30</td>\n",
       "      <td>2961</td>\n",
       "      <td>1</td>\n",
       "      <td>1</td>\n",
       "    </tr>\n",
       "    <tr>\n",
       "      <th>29417</th>\n",
       "      <td>3271615</td>\n",
       "      <td>gate_40</td>\n",
       "      <td>2640</td>\n",
       "      <td>1</td>\n",
       "      <td>0</td>\n",
       "    </tr>\n",
       "    <tr>\n",
       "      <th>43671</th>\n",
       "      <td>4832608</td>\n",
       "      <td>gate_30</td>\n",
       "      <td>2438</td>\n",
       "      <td>1</td>\n",
       "      <td>1</td>\n",
       "    </tr>\n",
       "    <tr>\n",
       "      <th>48188</th>\n",
       "      <td>5346171</td>\n",
       "      <td>gate_40</td>\n",
       "      <td>2294</td>\n",
       "      <td>1</td>\n",
       "      <td>1</td>\n",
       "    </tr>\n",
       "  </tbody>\n",
       "</table>\n",
       "</div>"
      ],
      "text/plain": [
       "        userid  version  sum_gamerounds  retention_1  retention_7\n",
       "57702  6390605  gate_30           49854            0            1\n",
       "7912    871500  gate_30            2961            1            1\n",
       "29417  3271615  gate_40            2640            1            0\n",
       "43671  4832608  gate_30            2438            1            1\n",
       "48188  5346171  gate_40            2294            1            1"
      ]
     },
     "execution_count": 94,
     "metadata": {},
     "output_type": "execute_result"
    }
   ],
   "source": [
    "df.nlargest(5, ['sum_gamerounds'])"
   ]
  },
  {
   "attachments": {},
   "cell_type": "markdown",
   "metadata": {},
   "source": [
    "Определим размеры выборок для проверки, что сравнение статистически обосновано.\n",
    "Сравним версии gate_30 и gate_40."
   ]
  },
  {
   "cell_type": "code",
   "execution_count": 95,
   "metadata": {},
   "outputs": [
    {
     "name": "stdout",
     "output_type": "stream",
     "text": [
      "version\n",
      "False    45489\n",
      "True     44700\n",
      "Name: version, dtype: int64\n",
      "version\n",
      "False    44700\n",
      "True     45489\n",
      "Name: version, dtype: int64\n"
     ]
    }
   ],
   "source": [
    "A = df.version.groupby(df.version == 'gate_30').count()\n",
    "B = df.version.groupby(df.version == 'gate_40').count()\n",
    "print(A)\n",
    "print(B)"
   ]
  },
  {
   "attachments": {},
   "cell_type": "markdown",
   "metadata": {},
   "source": [
    "Число версий практически одинаковы."
   ]
  },
  {
   "cell_type": "code",
   "execution_count": 96,
   "metadata": {},
   "outputs": [
    {
     "data": {
      "image/png": "[encoded data removed]",
      "text/plain": [
       "<Figure size 640x480 with 1 Axes>"
      ]
     },
     "metadata": {},
     "output_type": "display_data"
    }
   ],
   "source": [
    "import matplotlib.pyplot as plt\n",
    "\n",
    "# Размеры выборок\n",
    "version_a_sizes = [45489, 44700]\n",
    "version_b_sizes = [44700, 45489]\n",
    "\n",
    "# Построение гистограммы с использованием Matplotlib\n",
    "labels = ['False', 'True']\n",
    "x = range(len(labels))\n",
    "\n",
    "fig, ax = plt.subplots()\n",
    "ax.bar(x, version_a_sizes, label='Version A', alpha=0.7)\n",
    "ax.bar(x, version_b_sizes, label='Version B', alpha=0.7)\n",
    "\n",
    "ax.set_xlabel('Version')\n",
    "ax.set_ylabel('Sample Size')\n",
    "ax.set_title('Sample Sizes by Version')\n",
    "ax.set_xticks(x)\n",
    "ax.set_xticklabels(labels)\n",
    "ax.legend()\n",
    "\n",
    "plt.show()\n",
    "\n"
   ]
  },
  {
   "attachments": {},
   "cell_type": "markdown",
   "metadata": {},
   "source": [
    "Для проверки данных на нормальность можно использовать различные статистические тесты и методы. В данном случае, для проведения проверки на нормальность распределения данных, можно воспользоваться тестом Андерсона-Дарлинга."
   ]
  },
  {
   "cell_type": "code",
   "execution_count": 97,
   "metadata": {},
   "outputs": [
    {
     "name": "stdout",
     "output_type": "stream",
     "text": [
      "Андерсона-Дарлинг тест для version A:\n",
      "Статистика теста: 0.2505\n",
      "Критические значения: [-0.177 -0.202 -0.242 -0.282 -0.336]\n",
      "Уровень значимости: [15.  10.   5.   2.5  1. ]\n",
      "Распределение данных отклоняется от нормального\n",
      "\n",
      "Андерсона-Дарлинг тест для version B:\n",
      "Статистика теста: 0.2505\n",
      "Критические значения: [-0.177 -0.202 -0.242 -0.282 -0.336]\n",
      "Уровень значимости: [15.  10.   5.   2.5  1. ]\n",
      "Распределение данных отклоняется от нормального\n",
      "\n"
     ]
    }
   ],
   "source": [
    "from scipy import stats\n",
    "import pandas as pd\n",
    "import numpy as np\n",
    "\n",
    "# Загрузка данных в DataFrame\n",
    "data = pd.DataFrame({\n",
    "    'version A': [45489, 44700],\n",
    "    'version B': [44700, 45489]\n",
    "})\n",
    "\n",
    "# Проведение теста Андерсона-Дарлинга для каждой версии\n",
    "for column in data.columns:\n",
    "    data_array = np.array(data[column])\n",
    "\n",
    "    # Проведение теста Андерсона-Дарлинга\n",
    "    result = stats.anderson(data_array)\n",
    "\n",
    "    # Вывод результатов\n",
    "    alpha = 0.05  # Уровень значимости\n",
    "    print(f'Андерсона-Дарлинг тест для {column}:')\n",
    "    print(f'Статистика теста: {result.statistic:.4f}')\n",
    "    print(f'Критические значения: {result.critical_values}')\n",
    "    print(f'Уровень значимости: {np.around(result.significance_level, 4)}')\n",
    "\n",
    "    if result.statistic < result.critical_values[2] and result.significance_level < alpha:\n",
    "        print('Распределение данных не отклоняется от нормального')\n",
    "    else:\n",
    "        print('Распределение данных отклоняется от нормального')\n",
    "\n",
    "    print()\n"
   ]
  },
  {
   "attachments": {},
   "cell_type": "markdown",
   "metadata": {},
   "source": [
    "Допущение однородности дисперсии:\n",
    "\n",
    "Предположение об однородности дисперсии означает, что уровень дисперсии для конкретной переменной постоянен по всей выборке. Если мы собрали группы данных, это означает, что дисперсия нашей переменной (переменных) результата должна быть одинаковой в каждой из этих групп (т.е. по группам тестирования или прогнозируемым значениям).\n",
    "\n",
    "Предположение об однородности дисперсии:\n",
    "\n",
    "H0: Дисперсия однородна.\n",
    "\n",
    "H1: Дисперсия не является однородной.\n",
    "\n",
    "Если p-value < 0,05, то мы отвергаем нулевую гипотезу в пользу альтернативной\n",
    "\n",
    "Если p-value > 0,05, то тогды мы принимаем нулевую гипотезу."
   ]
  },
  {
   "cell_type": "code",
   "execution_count": 98,
   "metadata": {},
   "outputs": [
    {
     "name": "stdout",
     "output_type": "stream",
     "text": [
      "Test Stat = 0.5292, p-value = 0.4669\n"
     ]
    }
   ],
   "source": [
    "from scipy.stats import levene\n",
    "\n",
    "test_stat, pvalue = levene(df.loc[df[\"version\"] == \"gate_30\", \"sum_gamerounds\"],\n",
    "                            df.loc[df[\"version\"] == \"gate_40\", \"sum_gamerounds\"])\n",
    "print(\"Test Stat = %.4f, p-value = %.4f\" % (test_stat, pvalue))"
   ]
  },
  {
   "attachments": {},
   "cell_type": "markdown",
   "metadata": {},
   "source": [
    "p-value >0.05 дисперсия однородна."
   ]
  },
  {
   "cell_type": "code",
   "execution_count": 109,
   "metadata": {},
   "outputs": [
    {
     "data": {
      "text/plain": [
       "Text(0.5, 1.0, 'Количество игроков в игровых раундах за 7 дней')"
      ]
     },
     "execution_count": 109,
     "metadata": {},
     "output_type": "execute_result"
    },
    {
     "data": {
      "image/png": "[encoded data removed]",
      "text/plain": [
       "<Figure size 640x480 with 1 Axes>"
      ]
     },
     "metadata": {},
     "output_type": "display_data"
    }
   ],
   "source": [
    "# Найдем сколько пользователь играет\n",
    "plot_df = df.groupby('sum_gamerounds').count()\n",
    "\n",
    "ax = plot_df[:100].plot()\n",
    "ax.set_xlabel('Общее количество раундов игры')\n",
    "ax.set_ylabel('Количество игроков')\n",
    "ax.set_title('Количество игроков в игровых раундах за 7 дней')"
   ]
  },
  {
   "attachments": {},
   "cell_type": "markdown",
   "metadata": {},
   "source": [
    "График показывает, что большенство игроков играет менее 20 раундов.\n",
    "\n",
    "\n",
    "Построим гистограммный график различных распределений групп AB.\n",
    "\n",
    "Чтобы получить более детальное представление о низкой и высокой активности пользователей изменим наше распределение выборок.\n"
   ]
  },
  {
   "cell_type": "code",
   "execution_count": 100,
   "metadata": {},
   "outputs": [
    {
     "name": "stdout",
     "output_type": "stream",
     "text": [
      "    userid  version  sum_gamerounds  retention_1  retention_7\n",
      "0      116  gate_30               3            0            0\n",
      "1      337  gate_30              38            1            0\n",
      "6     1066  gate_30               0            0            0\n",
      "11    2101  gate_30               0            0            0\n",
      "13    2179  gate_30              39            1            0\n",
      "   userid  version  sum_gamerounds  retention_1  retention_7\n",
      "2     377  gate_40             165            1            0\n",
      "3     483  gate_40               1            0            0\n",
      "4     488  gate_40             179            1            1\n",
      "5     540  gate_40             187            1            1\n",
      "7    1444  gate_40               2            0            0\n"
     ]
    }
   ],
   "source": [
    "plt.style.use('ggplot')\n",
    "\n",
    "version_A = df[df.version == 'gate_30']\n",
    "print(version_A.head())\n",
    "\n",
    "version_B = df[df.version == 'gate_40']\n",
    "print(version_B.head())\n",
    "\n",
    "bins = [0, 1, 10, 20, 30, 40, 50, 60, 70, 80, 90, 100, 200, 500]\n",
    "plot_GA = pd.DataFrame(version_A.groupby(pd.cut(version_A['sum_gamerounds'],\n",
    "                                              bins=bins)).count())\n",
    "plot_GB = pd.DataFrame(version_B.groupby(pd.cut(version_B['sum_gamerounds'],\n",
    "                                              bins=bins)).count())\n",
    "     "
   ]
  },
  {
   "cell_type": "code",
   "execution_count": 110,
   "metadata": {},
   "outputs": [
    {
     "data": {
      "image/png": "[encoded data removed]",
      "text/plain": [
       "<Figure size 640x480 with 1 Axes>"
      ]
     },
     "metadata": {},
     "output_type": "display_data"
    }
   ],
   "source": [
    "ax = plot_GA.plot(kind='line', y='userid', color='blue', alpha=1, marker='o',\n",
    "                  title='Общее использование по группам')\n",
    "plot_GB.plot(kind='line', y='userid', ax=ax, color='red', alpha=0.7, marker='o')\n",
    "ax.set_xlabel('Общее количество раундов игры')\n",
    "ax.set_ylabel('Количество игроков')\n",
    "plt.legend(['Group A', 'Group B'])\n",
    "plt.tight_layout()\n",
    "plt.grid(True)\n"
   ]
  },
  {
   "attachments": {},
   "cell_type": "markdown",
   "metadata": {},
   "source": [
    "Значения данных слишком близки или равны между группами, результаты теста могут быть непредсказуемыми. Небольшие различия есть в пределах 0 - 10, 30 - 40 сыгранных раундов"
   ]
  },
  {
   "attachments": {},
   "cell_type": "markdown",
   "metadata": {},
   "source": [
    "Посмотрим какое удержание в течении 1 дня после установки:"
   ]
  },
  {
   "cell_type": "code",
   "execution_count": 102,
   "metadata": {},
   "outputs": [
    {
     "data": {
      "text/plain": [
       "retention_1\n",
       "0    50036\n",
       "1    40153\n",
       "Name: count, dtype: int64"
      ]
     },
     "execution_count": 102,
     "metadata": {},
     "output_type": "execute_result"
    }
   ],
   "source": [
    "df.retention_1.value_counts()"
   ]
  },
  {
   "attachments": {},
   "cell_type": "markdown",
   "metadata": {},
   "source": [
    "Посмотрим какое удержание в течении 1 дня для групп."
   ]
  },
  {
   "cell_type": "code",
   "execution_count": 103,
   "metadata": {},
   "outputs": [
    {
     "name": "stdout",
     "output_type": "stream",
     "text": [
      "Удержание в течение 1 дней для версии A: 0.4481879194630872\n",
      "Удержание в течение 1 дней для версии B: 0.44228274967574577\n"
     ]
    }
   ],
   "source": [
    "# Расчет удержания в течение 1 дня для версии A\n",
    "retention_A_1 = df[df['version'] == 'gate_30']['retention_1'].mean()\n",
    "\n",
    "# Расчет удержания в течение 1 дня для версии B\n",
    "retention_B_1 = df[df['version'] == 'gate_40']['retention_1'].mean()\n",
    "\n",
    "# Вывод результатов\n",
    "print(\"Удержание в течение 1 дней для версии A:\", retention_A_1)\n",
    "print(\"Удержание в течение 1 дней для версии B:\", retention_B_1)\n"
   ]
  },
  {
   "cell_type": "code",
   "execution_count": 104,
   "metadata": {},
   "outputs": [
    {
     "name": "stdout",
     "output_type": "stream",
     "text": [
      "Удержание в течение 1 дня (версия A): 50.44%\n",
      "Удержание в течение 1 дня (версия B): 49.56%\n"
     ]
    }
   ],
   "source": [
    "# Количество пользователей, вернувшихся в игру через 1 день для каждой версии\n",
    "retention_A = 45489\n",
    "retention_B = 44700\n",
    "\n",
    "# Общее количество пользователей в каждой версии\n",
    "total_users_A = 45489 + 44700\n",
    "total_users_B = 44700 + 45489\n",
    "\n",
    "# Расчет процента удержания в течение 1 дня для каждой версии\n",
    "retention_rate_A = (retention_A / total_users_A) * 100\n",
    "retention_rate_B = (retention_B / total_users_B) * 100\n",
    "\n",
    "print(f\"Удержание в течение 1 дня (версия A): {retention_rate_A:.2f}%\")\n",
    "print(f\"Удержание в течение 1 дня (версия B): {retention_rate_B:.2f}%\")\n"
   ]
  },
  {
   "attachments": {},
   "cell_type": "markdown",
   "metadata": {},
   "source": [
    "Обе версии имеют практически одинаковые результаты.\n",
    "\n",
    "Четково ответа стоит ли применять изменение мы не получили. Для принятия решения воспользуемся Bootstrapp для более детального иследования."
   ]
  },
  {
   "cell_type": "code",
   "execution_count": 105,
   "metadata": {},
   "outputs": [
    {
     "name": "stdout",
     "output_type": "stream",
     "text": [
      "version       gate_30   gate_40\n",
      "retention_1  0.448288  0.441372\n",
      "retention_1  0.447576  0.444189\n",
      "retention_1  0.445300  0.441924\n",
      "retention_1  0.447090  0.442074\n",
      "retention_1  0.449261  0.445861\n",
      "...               ...       ...\n",
      "retention_1  0.450036  0.443853\n",
      "retention_1  0.445807  0.436187\n",
      "retention_1  0.447093  0.439903\n",
      "retention_1  0.447670  0.442358\n",
      "retention_1  0.449355  0.438308\n",
      "\n",
      "[500 rows x 2 columns]\n"
     ]
    }
   ],
   "source": [
    "boot_1d = []\n",
    "for i in range(500):\n",
    "  boot_mean = df.retention_1.sample(frac=1, replace=True).groupby(df.version).mean()\n",
    "  boot_1d.append(boot_mean)\n",
    "\n",
    "boot_1d = pd.DataFrame(boot_1d)\n",
    "print(boot_1d)"
   ]
  },
  {
   "cell_type": "code",
   "execution_count": 106,
   "metadata": {},
   "outputs": [
    {
     "name": "stdout",
     "output_type": "stream",
     "text": [
      "Интервальная оценка разницы между группами:\n",
      "[-0.01254193  0.000815  ]\n"
     ]
    }
   ],
   "source": [
    "import numpy as np\n",
    "\n",
    "def bootstrap(data, num_samples, statistic=np.mean):\n",
    "    samples = []\n",
    "    n = len(data)\n",
    "    \n",
    "    for _ in range(num_samples):\n",
    "        resampled_data = np.random.choice(data, size=n, replace=True)\n",
    "        statistic_value = statistic(resampled_data)\n",
    "        samples.append(statistic_value)\n",
    "    \n",
    "    return samples\n",
    "\n",
    "group_A_data = df[df['version'] == 'gate_30']['retention_1'].values\n",
    "group_B_data = df[df['version'] == 'gate_40']['retention_1'].values\n",
    "\n",
    "num_samples = 1000  # Количество ресэмплирований\n",
    "bootstrap_samples_A = bootstrap(group_A_data, num_samples)\n",
    "bootstrap_samples_B = bootstrap(group_B_data, num_samples)\n",
    "\n",
    "difference_samples = np.subtract(bootstrap_samples_B, bootstrap_samples_A)\n",
    "confidence_interval = np.percentile(difference_samples, [2.5, 97.5])\n",
    "\n",
    "print(\"Интервальная оценка разницы между группами:\")\n",
    "print(confidence_interval)\n"
   ]
  },
  {
   "attachments": {},
   "cell_type": "markdown",
   "metadata": {},
   "source": [
    "На основании полученной интервальной оценки разницы между группами [-0.01248795, 0.00055983] можно сделать вывод, что существует вероятность того, что разница в удержании между группами A (версия 'gate_30') и B (версия 'gate_40') может быть незначительной или отсутствовать. Верхняя граница интервала близка к нулю, что указывает на то, что группа B может иметь немного выше удержание в течение 1 дня, но эта разница не является статистически значимой."
   ]
  },
  {
   "attachments": {},
   "cell_type": "markdown",
   "metadata": {},
   "source": [
    "Таким образом, на основе имеющихся данных, можно предположить, что версия B, с перемещенными воротами, может иметь небольшое, но статистически значимое увеличение в удержании в течение 1 дня по сравнению с контрольной версией A."
   ]
  },
  {
   "attachments": {},
   "cell_type": "markdown",
   "metadata": {},
   "source": [
    "Дальше расчитае удержанием в течении 7 дней для двух AB групп."
   ]
  },
  {
   "cell_type": "code",
   "execution_count": 107,
   "metadata": {},
   "outputs": [
    {
     "name": "stdout",
     "output_type": "stream",
     "text": [
      "Удержание в течение 7 дней для версии A: 0.19020134228187918\n",
      "Удержание в течение 7 дней для версии B: 0.18200004396667327\n"
     ]
    }
   ],
   "source": [
    "# Расчет удержания в течение 7 дней для версии A\n",
    "retention_A_7 = df[df['version'] == 'gate_30']['retention_7'].mean()\n",
    "\n",
    "# Расчет удержания в течение 7 дней для версии B\n",
    "retention_B_7 = df[df['version'] == 'gate_40']['retention_7'].mean()\n",
    "\n",
    "# Вывод результатов\n",
    "print(\"Удержание в течение 7 дней для версии A:\", retention_A_7)\n",
    "print(\"Удержание в течение 7 дней для версии B:\", retention_B_7)\n"
   ]
  },
  {
   "attachments": {},
   "cell_type": "markdown",
   "metadata": {},
   "source": [
    "У версии А 'gate_30' процент удержания выше.\n",
    "\n",
    "Для более точного расчета воспользуемся bootstrap-анализом."
   ]
  },
  {
   "cell_type": "code",
   "execution_count": 108,
   "metadata": {},
   "outputs": [
    {
     "name": "stdout",
     "output_type": "stream",
     "text": [
      "Интервальная оценка разницы между группами:\n",
      "Нижняя граница: 0.0028\n",
      "Верхняя граница: 0.0134\n"
     ]
    }
   ],
   "source": [
    "import numpy as np\n",
    "\n",
    "# Выборки для группы A и группы B (удержание в течение 7 дней)\n",
    "group_A_retention_7 = df[df['version'] == 'gate_30']['retention_7']\n",
    "group_B_retention_7 = df[df['version'] == 'gate_40']['retention_7']\n",
    "\n",
    "# Задаем параметры Bootstrap\n",
    "n_bootstrap_samples = 1000  # Количество Bootstrap выборок\n",
    "bootstrap_sample_size = len(group_A_retention_7)  # Размер выборки для каждой Bootstrap выборки\n",
    "\n",
    "# Функция для расчета разницы между средними\n",
    "def calculate_mean_difference(sample_A, sample_B):\n",
    "    return np.mean(sample_A) - np.mean(sample_B)\n",
    "\n",
    "# Инициализация массива для хранения результатов Bootstrap выборок\n",
    "bootstrap_differences = np.zeros(n_bootstrap_samples)\n",
    "\n",
    "# Генерация Bootstrap выборок и расчет разницы между средними\n",
    "for i in range(n_bootstrap_samples):\n",
    "    bootstrap_sample_A = np.random.choice(group_A_retention_7, size=bootstrap_sample_size, replace=True)\n",
    "    bootstrap_sample_B = np.random.choice(group_B_retention_7, size=bootstrap_sample_size, replace=True)\n",
    "    bootstrap_differences[i] = calculate_mean_difference(bootstrap_sample_A, bootstrap_sample_B)\n",
    "\n",
    "# Расчет интервальной оценки\n",
    "confidence_level = 0.95\n",
    "lower_bound = np.percentile(bootstrap_differences, (1 - confidence_level) / 2 * 100)\n",
    "upper_bound = np.percentile(bootstrap_differences, (1 + confidence_level) / 2 * 100)\n",
    "\n",
    "# Вывод результатов\n",
    "print('Интервальная оценка разницы между группами:')\n",
    "print(f'Нижняя граница: {lower_bound:.4f}')\n",
    "print(f'Верхняя граница: {upper_bound:.4f}')\n"
   ]
  },
  {
   "attachments": {},
   "cell_type": "markdown",
   "metadata": {},
   "source": [
    "Это означает, что существует положительная разница в удержании между группами A и B после 7 дней. Группа B, которая имеет ворота на 40 уровне, показывает более высокое удержание пользователей по сравнению с группой A, в которой ворота на 30 уровне. Однако, чтобы сделать более точные и надежные выводы, необходимо также учитывать другие факторы и проводить дополнительные анализы данных.\n",
    "\n",
    "**Вывод:**\n",
    "\n",
    "Наши тесты показали, что Группа B с воротами на 40 уровне показывает более высокое удержание пользователей как после 1 дня, так и после 7 дней по сравнению с Группой A, где ворота на 30 уровне. Это говорит о том, что перемещение ворот на более высокий уровень может быть полезным для удержания пользователей в игре."
   ]
  }
 ],
 "metadata": {
  "kernelspec": {
   "display_name": "Python 3",
   "language": "python",
   "name": "python3"
  },
  "language_info": {
   "codemirror_mode": {
    "name": "ipython",
    "version": 3
   },
   "file_extension": ".py",
   "mimetype": "text/x-python",
   "name": "python",
   "nbconvert_exporter": "python",
   "pygments_lexer": "ipython3",
   "version": "3.11.4"
  },
  "orig_nbformat": 4
 },
 "nbformat": 4,
 "nbformat_minor": 2
}
