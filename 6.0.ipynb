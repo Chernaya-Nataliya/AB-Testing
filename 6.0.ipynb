{
 "cells": [
  {
   "attachments": {},
   "cell_type": "markdown",
   "metadata": {},
   "source": [
    "### Задание 1\n",
    "Продакт на главной mail.ru решил протестировать в рекомендательной ленте контента вместо карточек со статьями видеоплеер с короткими видео. Нынешний таймспент на юзера в день в среднем равен 25 минут, а стандартная ошибка (SD) равна 156. Мы предполагаем, что в новой версии таймспент на юзера в день изменится на 10%. Средний трафик 20000 человек в день. Посчитайте сколько дней необходимо держать эксперимент при alpha = 5% и beta = 20%\n",
    "\n",
    "*Решение:*\n",
    "\n",
    "Для решения этой задачи нам нужно рассчитать необходимый размер выборки для проведения эксперимента. Для этого мы можем использовать онлайн-калькулятор https://www.statulator.com/SampleSize/ss2M.html\n",
    "\n",
    "![6.0.png](6.0.png)\n",
    "\n",
    "Используя калькулятор https://www.statulator.com/SampleSize/ss2M.html, мы можем определить, что для достижения заданных уровней статистической значимости и мощности, необходимо провести эксперимент на 155716 пользователях.\n",
    "\n",
    "Поскольку средний трафик составляет 20000 человек в день, то длительность эксперимента будет равна:\n",
    "\n",
    "длительность эксперимента = необходимый размер выборки / средний трафик\n",
    "\n",
    "длительность эксперимента = 155716 / 20000 = 7,79 дня\n",
    "\n",
    "Таким образом, чтобы достичь заданных уровней статистической значимости и мощности, необходимо провести эксперимент как минимум на 8 дней."
   ]
  },
  {
   "cell_type": "code",
   "execution_count": 26,
   "metadata": {},
   "outputs": [
    {
     "name": "stdout",
     "output_type": "stream",
     "text": [
      "Необходимо провести эксперимент в течение 7.79 дней.\n"
     ]
    }
   ],
   "source": [
    "import statsmodels.stats.api as sms\n",
    "\n",
    "# Исходные данные\n",
    "n = 155716  # Размер выборки\n",
    "baseline_mean = 25  # Средний таймспент в базовой версии (в минутах)\n",
    "baseline_sd = 156  # Значение стандартной ошибки\n",
    "alpha = 0.05  # Уровень значимости\n",
    "beta = 0.2  # Мощность (1 - beta)\n",
    "\n",
    "# Вычисление эффекта минимального практического значения (minimum detectable effect)\n",
    "mde = baseline_mean * 0.1\n",
    "\n",
    "# Расчет необходимого размера выборки\n",
    "required_size = sms.tt_ind_solve_power(effect_size=mde / baseline_sd,\n",
    "                                       nobs1=None,\n",
    "                                       alpha=alpha,\n",
    "                                       power=1 - beta,\n",
    "                                       ratio=1,\n",
    "                                       alternative='two-sided')\n",
    "\n",
    "# Пересчитываем размер выборки в целое число\n",
    "required_size = int(required_size)\n",
    "\n",
    "# Проверка, достаточно ли у нас размера выборки\n",
    "if required_size <= n:\n",
    "    days_required = n / 20000  # Расчет количества дней для текущего размера выборки\n",
    "else:\n",
    "    days_required = required_size / 20000  # Расчет количества дней для требуемого размера выборки\n",
    "\n",
    "print(f\"Необходимо провести эксперимент в течение {days_required:.2f} дней.\")\n"
   ]
  },
  {
   "attachments": {},
   "cell_type": "markdown",
   "metadata": {},
   "source": [
    "В результате выполнения программы мы получили 8 дней, в течение которых нужно проводить эксперимент при количестве посетителей в 20000 человек в день.\n",
    "\n",
    "### Задание 2\n",
    "Наша продуктовая команда в ecommerce магазине планирует запустить тест, направленный на ускорение загрузки сайта. Одна из основных метрик bounce rate в GA = 40%. Мы предполагаем, что при оптимизации сайта она изменится минимум на 20%.Средний трафик 4000 человек в день. Посчитайте сколько нам нужно дней держать эксперимент при alpha = 5% и beta = 20%. \n",
    "\n",
    "*Решение:*\n",
    "\n",
    "Для расчета необходимой длительности эксперимента для тестирования изменений на сайте, учитывая заданный уровень статистической значимости (alpha) и мощность (1 - beta), можно использовать калькуляторы размера выборки. воспользуемся калькулятором https://mindbox.ru/tools/ab-test-calculator/ \n",
    "\n",
    "![6.01.png](6.01.png)"
   ]
  },
  {
   "cell_type": "code",
   "execution_count": 28,
   "metadata": {},
   "outputs": [
    {
     "name": "stdout",
     "output_type": "stream",
     "text": [
      "Необходимое количество дней для эксперимента: 1\n"
     ]
    }
   ],
   "source": [
    "import numpy as np\n",
    "from statsmodels.stats.power import NormalIndPower\n",
    "from statsmodels.stats.proportion import proportion_effectsize\n",
    "\n",
    "# Задаем параметры\n",
    "baseline_bounce_rate = 0.40\n",
    "expected_change = 0.20\n",
    "alpha = 0.05\n",
    "beta = 0.20\n",
    "daily_traffic = 4000\n",
    "sample_size = 188\n",
    "\n",
    "# Рассчитываем эффект\n",
    "effect_size = proportion_effectsize(baseline_bounce_rate, baseline_bounce_rate - expected_change)\n",
    "\n",
    "# Рассчитываем необходимый размер выборки\n",
    "analysis = NormalIndPower()\n",
    "sample_size = analysis.solve_power(effect_size=effect_size, alpha=alpha, power=1-beta, ratio=1)\n",
    "\n",
    "# Рассчитываем количество дней для эксперимента\n",
    "days_needed = int(np.ceil(sample_size / daily_traffic))\n",
    "\n",
    "print(f'Необходимое количество дней для эксперимента: {days_needed}')"
   ]
  },
  {
   "attachments": {},
   "cell_type": "markdown",
   "metadata": {},
   "source": [
    "Ответ:  1 день необходимо для эксперимента, при его реализации на всех 188 пользователях, при alpha = 5% и beta = 20%."
   ]
  }
 ],
 "metadata": {
  "kernelspec": {
   "display_name": "Python 3",
   "language": "python",
   "name": "python3"
  },
  "language_info": {
   "codemirror_mode": {
    "name": "ipython",
    "version": 3
   },
   "file_extension": ".py",
   "mimetype": "text/x-python",
   "name": "python",
   "nbconvert_exporter": "python",
   "pygments_lexer": "ipython3",
   "version": "3.11.4"
  },
  "orig_nbformat": 4
 },
 "nbformat": 4,
 "nbformat_minor": 2
}
